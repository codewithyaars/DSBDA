{
  "cells": [
    {
      "cell_type": "code",
      "execution_count": null,
      "metadata": {
        "id": "H3fPq6Wd1Zif"
      },
      "outputs": [],
      "source": [
        "!pip install spacy\n"
      ]
    },
    {
      "cell_type": "code",
      "execution_count": 1,
      "metadata": {
        "id": "qN445DhN1Zig"
      },
      "outputs": [],
      "source": [
        " # Step 1: Importing Libraries\n",
        "import spacy\n",
        "import string\n",
        "import pandas as pd\n",
        "from sklearn.feature_extraction.text import TfidfVectorizer ,CountVectorizer\n",
        "\n"
      ]
    },
    {
      "cell_type": "code",
      "execution_count": 2,
      "metadata": {
        "id": "7mQDS0UM1Zig"
      },
      "outputs": [],
      "source": [
        "nlp = spacy.load(\"en_core_web_sm\")"
      ]
    },
    {
      "cell_type": "code",
      "execution_count": 3,
      "metadata": {
        "colab": {
          "base_uri": "https://localhost:8080/"
        },
        "id": "tT7AFZNj1Zig",
        "outputId": "3bb0b2fb-c80b-4dc4-8d2e-c16ddd85990b"
      },
      "outputs": [
        {
          "output_type": "stream",
          "name": "stdout",
          "text": [
            "Original Document:\n",
            "Hi I am Eating a Mango which is very tasty\n"
          ]
        }
      ],
      "source": [
        "doc = \"Hi I am Eating a Mango which is very tasty\"\n",
        "print(\"Original Document:\")\n",
        "print(doc)"
      ]
    },
    {
      "cell_type": "code",
      "execution_count": 4,
      "metadata": {
        "colab": {
          "base_uri": "https://localhost:8080/"
        },
        "id": "b85l7NdC1Zig",
        "outputId": "d28aa93c-057a-4ea6-ee86-fc4c5f6c2d5a"
      },
      "outputs": [
        {
          "output_type": "stream",
          "name": "stdout",
          "text": [
            "\n",
            "Tokenized Words:\n",
            "['Hi', 'I', 'am', 'Eating', 'a', 'Mango', 'which', 'is', 'very', 'tasty']\n"
          ]
        }
      ],
      "source": [
        "\n",
        "doc_spacy = nlp(doc)\n",
        "tokens = [token.text for token in doc_spacy]\n",
        "print(\"\\nTokenized Words:\")\n",
        "print(tokens)"
      ]
    },
    {
      "cell_type": "code",
      "execution_count": 5,
      "metadata": {
        "colab": {
          "base_uri": "https://localhost:8080/"
        },
        "id": "CdJnPAcy1Zig",
        "outputId": "2839f1c1-b701-4da7-e0fd-75368430b9b1"
      },
      "outputs": [
        {
          "output_type": "stream",
          "name": "stdout",
          "text": [
            "\n",
            "POS Tagging:\n",
            "[('Hi', 'INTJ'), ('I', 'PRON'), ('am', 'AUX'), ('Eating', 'VERB'), ('a', 'DET'), ('Mango', 'PROPN'), ('which', 'PRON'), ('is', 'AUX'), ('very', 'ADV'), ('tasty', 'ADJ')]\n"
          ]
        }
      ],
      "source": [
        "\n",
        "pos_tags = [(token.text, token.pos_) for token in doc_spacy]\n",
        "print(\"\\nPOS Tagging:\")\n",
        "print(pos_tags)"
      ]
    },
    {
      "cell_type": "code",
      "execution_count": 6,
      "metadata": {
        "colab": {
          "base_uri": "https://localhost:8080/"
        },
        "id": "4WJOgm1I1Zig",
        "outputId": "51a82a74-40f6-4181-aa3c-0f95879d5d34"
      },
      "outputs": [
        {
          "output_type": "stream",
          "name": "stdout",
          "text": [
            "\n",
            "After Stop Words Removal:\n",
            "['Hi', 'Eating', 'Mango', 'tasty']\n"
          ]
        }
      ],
      "source": [
        "\n",
        "filtered_tokens = [token.text for token in doc_spacy if not token.is_stop and token.text not in string.punctuation]\n",
        "print(\"\\nAfter Stop Words Removal:\")\n",
        "print(filtered_tokens)"
      ]
    },
    {
      "cell_type": "code",
      "execution_count": 7,
      "metadata": {
        "colab": {
          "base_uri": "https://localhost:8080/"
        },
        "id": "6dVZc4uM1Zih",
        "outputId": "d7566fd1-9df8-4487-8603-4cc4f29869a3"
      },
      "outputs": [
        {
          "output_type": "stream",
          "name": "stdout",
          "text": [
            "\n",
            "After Stemming (Using Lemmatization as SpaCy doesn’t have direct stemming):\n",
            "['hi', 'I', 'be', 'eat', 'a', 'Mango', 'which', 'be', 'very', 'tasty']\n"
          ]
        }
      ],
      "source": [
        "stemmed_tokens = [token.lemma_ for token in doc_spacy]\n",
        "print(\"\\nAfter Stemming (Using Lemmatization as SpaCy doesn’t have direct stemming):\")\n",
        "print(stemmed_tokens)"
      ]
    },
    {
      "cell_type": "code",
      "execution_count": 8,
      "metadata": {
        "colab": {
          "base_uri": "https://localhost:8080/"
        },
        "id": "at8azKAM1Zih",
        "outputId": "8a69f9a5-f95a-4ede-e77d-643e8de93396"
      },
      "outputs": [
        {
          "output_type": "stream",
          "name": "stdout",
          "text": [
            "\n",
            "After Lemmatization:\n",
            "['hi', 'eat', 'Mango', 'tasty']\n"
          ]
        }
      ],
      "source": [
        "lemmatized_tokens = [token.lemma_ for token in doc_spacy if not token.is_stop and token.text not in string.punctuation]\n",
        "print(\"\\nAfter Lemmatization:\")\n",
        "print(lemmatized_tokens)"
      ]
    },
    {
      "cell_type": "code",
      "execution_count": 9,
      "metadata": {
        "id": "2Cq73YXW1Zih"
      },
      "outputs": [],
      "source": [
        "corpus = [doc]\n",
        "tfidf_vectorizer = TfidfVectorizer()\n",
        "tfidf_matrix = tfidf_vectorizer.fit_transform(corpus)"
      ]
    },
    {
      "cell_type": "code",
      "execution_count": 10,
      "metadata": {
        "colab": {
          "base_uri": "https://localhost:8080/"
        },
        "id": "zdAVCfIp1Zih",
        "outputId": "bf522ac1-8e03-4723-df50-24e5167a27dc"
      },
      "outputs": [
        {
          "output_type": "stream",
          "name": "stdout",
          "text": [
            "\n",
            "TF-IDF Representation:\n",
            "         am    eating        hi        is     mango     tasty      very  \\\n",
            "0  0.353553  0.353553  0.353553  0.353553  0.353553  0.353553  0.353553   \n",
            "\n",
            "      which  \n",
            "0  0.353553  \n"
          ]
        }
      ],
      "source": [
        "tfidf_df = pd.DataFrame(tfidf_matrix.toarray(), columns=tfidf_vectorizer.get_feature_names_out())\n",
        "print(\"\\nTF-IDF Representation:\")\n",
        "print(tfidf_df)"
      ]
    },
    {
      "cell_type": "code",
      "source": [
        "corpus = [doc]\n",
        "count_vectorizer = CountVectorizer()\n",
        "count_matrix = count_vectorizer.fit_transform(corpus)"
      ],
      "metadata": {
        "id": "ilQaC68u1ecc"
      },
      "execution_count": 11,
      "outputs": []
    },
    {
      "cell_type": "code",
      "source": [
        "count_df = pd.DataFrame(count_matrix.toarray(), columns=count_vectorizer.get_feature_names_out())\n",
        "print(\"\\nCountVectorizer Representation:\")\n",
        "print(count_df)"
      ],
      "metadata": {
        "colab": {
          "base_uri": "https://localhost:8080/"
        },
        "id": "LLB_n8rr2Bpj",
        "outputId": "60f05f54-9802-4369-f7ff-8b4ebd520915"
      },
      "execution_count": 12,
      "outputs": [
        {
          "output_type": "stream",
          "name": "stdout",
          "text": [
            "\n",
            "CountVectorizer Representation:\n",
            "   am  eating  hi  is  mango  tasty  very  which\n",
            "0   1       1   1   1      1      1     1      1\n"
          ]
        }
      ]
    },
    {
      "cell_type": "code",
      "source": [],
      "metadata": {
        "id": "aOmPaZZH2M7L"
      },
      "execution_count": null,
      "outputs": []
    }
  ],
  "metadata": {
    "kernelspec": {
      "display_name": "Python 3",
      "language": "python",
      "name": "python3"
    },
    "language_info": {
      "codemirror_mode": {
        "name": "ipython",
        "version": 3
      },
      "file_extension": ".py",
      "mimetype": "text/x-python",
      "name": "python",
      "nbconvert_exporter": "python",
      "pygments_lexer": "ipython3",
      "version": "3.7.0"
    },
    "colab": {
      "provenance": []
    }
  },
  "nbformat": 4,
  "nbformat_minor": 0
}